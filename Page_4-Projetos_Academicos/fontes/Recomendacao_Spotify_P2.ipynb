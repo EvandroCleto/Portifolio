{
 "cells": [
  {
   "cell_type": "markdown",
   "metadata": {},
   "source": [
    "# <font color='blue'>Data Science Academy</font>\n",
    "# <font color='blue'>Big Data Real-Time Analytics com Python e Spark</font>\n",
    "\n",
    "## <font color='blue'>Mini-Projeto 7</font>\n",
    "\n",
    "### <font color='blue'>Sistema de Recomendação em Tempo Real com Machine Learning, PySpark, Spark Streaming e Kafka</font>"
   ]
  },
  {
   "cell_type": "markdown",
   "metadata": {},
   "source": [
    "![title](imagens/MP7.png)"
   ]
  },
  {
   "cell_type": "code",
   "execution_count": 1,
   "metadata": {},
   "outputs": [
    {
     "name": "stdout",
     "output_type": "stream",
     "text": [
      "Versão da Linguagem Python Usada Neste Jupyter Notebook: 3.9.13\n"
     ]
    }
   ],
   "source": [
    "# Versão da Linguagem Python\n",
    "from platform import python_version\n",
    "print('Versão da Linguagem Python Usada Neste Jupyter Notebook:', python_version())"
   ]
  },
  {
   "cell_type": "code",
   "execution_count": 2,
   "metadata": {},
   "outputs": [],
   "source": [
    "# Para atualizar um pacote, execute o comando abaixo no terminal ou prompt de comando:\n",
    "# pip install -U nome_pacote\n",
    "\n",
    "# Para instalar a versão exata de um pacote, execute o comando abaixo no terminal ou prompt de comando:\n",
    "#!pip install nome_pacote==versão_desejada\n",
    "\n",
    "# Depois de instalar ou atualizar o pacote, reinicie o jupyter notebook.\n",
    "\n",
    "# Instala o pacote watermark. \n",
    "# Esse pacote é usado para gravar as versões de outros pacotes usados neste jupyter notebook.\n",
    "#!pip install -q -U watermark"
   ]
  },
  {
   "cell_type": "code",
   "execution_count": 3,
   "metadata": {},
   "outputs": [],
   "source": [
    "# Imports\n",
    "import os\n",
    "import time\n",
    "import random\n",
    "import pyspark\n",
    "from pyspark.sql import SparkSession\n",
    "from pyspark.sql.functions import *\n",
    "from pyspark.ml.feature import Normalizer, StandardScaler"
   ]
  },
  {
   "cell_type": "code",
   "execution_count": 4,
   "metadata": {},
   "outputs": [
    {
     "name": "stdout",
     "output_type": "stream",
     "text": [
      "Author: Data Science Academy\n",
      "\n",
      "sys    : 3.9.13 (main, Aug 25 2022, 23:26:10) \n",
      "[GCC 11.2.0]\n",
      "pyspark: 3.3.1\n",
      "\n"
     ]
    }
   ],
   "source": [
    "# Versões dos pacotes usados neste jupyter notebook\n",
    "%reload_ext watermark\n",
    "%watermark -a \"Data Science Academy\" --iversions"
   ]
  },
  {
   "cell_type": "code",
   "execution_count": 5,
   "metadata": {},
   "outputs": [],
   "source": [
    "# Endereço do servidor Kafka\n",
    "SERVER = 'localhost:9092'"
   ]
  },
  {
   "cell_type": "code",
   "execution_count": 6,
   "metadata": {},
   "outputs": [],
   "source": [
    "# Nome do tópico\n",
    "TOPIC = \"dsaminiprojeto7\""
   ]
  },
  {
   "cell_type": "code",
   "execution_count": 7,
   "metadata": {},
   "outputs": [],
   "source": [
    "# Conectores do Spark para o Apache Kafka\n",
    "spark_jars =  (\"{},{},{},{},{}\".format(os.getcwd() + \"/jars/spark-sql-kafka-0-10_2.12-3.2.1.jar\",  \n",
    "                                       os.getcwd() + \"/jars/kafka-clients-2.1.1.jar\", \n",
    "                                       os.getcwd() + \"/jars/spark-streaming-kafka-0-10-assembly_2.12-3.3.2.jar\", \n",
    "                                       os.getcwd() + \"/jars/commons-pool2-2.8.0.jar\",  \n",
    "                                       os.getcwd() + \"/jars/spark-token-provider-kafka-0-10_2.12-3.1.2.jar\"))"
   ]
  },
  {
   "cell_type": "code",
   "execution_count": 8,
   "metadata": {},
   "outputs": [
    {
     "name": "stdout",
     "output_type": "stream",
     "text": [
      "23/05/16 23:24:17 WARN Utils: Your hostname, DataScience resolves to a loopback address: 127.0.1.1; using 10.0.2.15 instead (on interface enp0s3)\n",
      "23/05/16 23:24:17 WARN Utils: Set SPARK_LOCAL_IP if you need to bind to another address\n",
      "23/05/16 23:24:18 WARN NativeCodeLoader: Unable to load native-hadoop library for your platform... using builtin-java classes where applicable\n"
     ]
    },
    {
     "name": "stderr",
     "output_type": "stream",
     "text": [
      "Setting default log level to \"WARN\".\n",
      "To adjust logging level use sc.setLogLevel(newLevel). For SparkR, use setLogLevel(newLevel).\n"
     ]
    }
   ],
   "source": [
    "# Inicializa sessão Spark\n",
    "spark = SparkSession \\\n",
    "        .builder \\\n",
    "        .config(\"spark.jars\", spark_jars) \\\n",
    "        .appName(\"Mini-Projeto7\") \\\n",
    "        .getOrCreate()"
   ]
  },
  {
   "cell_type": "code",
   "execution_count": 9,
   "metadata": {},
   "outputs": [],
   "source": [
    "spark.sparkContext.setLogLevel(\"ERROR\")"
   ]
  },
  {
   "cell_type": "code",
   "execution_count": 10,
   "metadata": {},
   "outputs": [],
   "source": [
    "# Usamos o Spark Streaming para leitura do streaming de dados do Kafka e salvamos em um dataframe\n",
    "df = spark \\\n",
    "        .readStream \\\n",
    "        .format(\"kafka\") \\\n",
    "        .option(\"kafka.bootstrap.servers\", SERVER) \\\n",
    "        .option(\"subscribe\", TOPIC) \\\n",
    "        .option(\"startingOffsets\", \"latest\") \\\n",
    "        .load()"
   ]
  },
  {
   "cell_type": "code",
   "execution_count": 11,
   "metadata": {},
   "outputs": [],
   "source": [
    "# Selecionamos a coluna timestamp como string e salvamos em um novo dataframe\n",
    "df1 = df.selectExpr(\"CAST(value AS STRING)\", \"timestamp\") "
   ]
  },
  {
   "cell_type": "code",
   "execution_count": 12,
   "metadata": {},
   "outputs": [],
   "source": [
    "# Definimos o schema com o nome de cada coluna e o tipo de dado\n",
    "def_schema = \"order_id INT, id STRING, name STRING, popularity INT, duration_ms DOUBLE, \" \\\n",
    "             + \"artists STRING, id_artists STRING, release_date STRING, \" \\\n",
    "             + \"danceability DOUBLE,energy DOUBLE, key INT, loudness DOUBLE, \" \\\n",
    "             + \"mode INT,speechiness DOUBLE,\" \\\n",
    "             + \"acousticness DOUBLE, instrumentalness DOUBLE, liveness DOUBLE, \" \\\n",
    "             + \"valence DOUBLE, tempo DOUBLE, time_signature DOUBLE\""
   ]
  },
  {
   "cell_type": "code",
   "execution_count": 13,
   "metadata": {},
   "outputs": [],
   "source": [
    "# Selecionamos o streaming de dados de acordo com o schema e salvamos em um novo dataframe\n",
    "df2 = df1.select(from_csv(col(\"value\"), def_schema).alias(\"song\"), \"timestamp\")"
   ]
  },
  {
   "cell_type": "code",
   "execution_count": 14,
   "metadata": {},
   "outputs": [
    {
     "name": "stdout",
     "output_type": "stream",
     "text": [
      "root\n",
      " |-- order_id: integer (nullable = true)\n",
      " |-- id: string (nullable = true)\n",
      " |-- name: string (nullable = true)\n",
      " |-- popularity: integer (nullable = true)\n",
      " |-- duration_ms: double (nullable = true)\n",
      " |-- artists: string (nullable = true)\n",
      " |-- id_artists: string (nullable = true)\n",
      " |-- release_date: string (nullable = true)\n",
      " |-- danceability: double (nullable = true)\n",
      " |-- energy: double (nullable = true)\n",
      " |-- key: integer (nullable = true)\n",
      " |-- loudness: double (nullable = true)\n",
      " |-- mode: integer (nullable = true)\n",
      " |-- speechiness: double (nullable = true)\n",
      " |-- acousticness: double (nullable = true)\n",
      " |-- instrumentalness: double (nullable = true)\n",
      " |-- liveness: double (nullable = true)\n",
      " |-- valence: double (nullable = true)\n",
      " |-- tempo: double (nullable = true)\n",
      " |-- time_signature: double (nullable = true)\n",
      " |-- timestamp: timestamp (nullable = true)\n",
      "\n"
     ]
    }
   ],
   "source": [
    "# Criamos uma view(tabela) na memória do Spark e visualizamos o schema\n",
    "df3 = df2.select(\"song.*\", \"timestamp\")  \n",
    "df3.createOrReplaceTempView(\"df3_View\");\n",
    "df3.printSchema()"
   ]
  },
  {
   "cell_type": "code",
   "execution_count": 15,
   "metadata": {},
   "outputs": [],
   "source": [
    "# Selecionamos os dados com as músicas do stream\n",
    "musicas_stream = spark.sql(\"SELECT * FROM df3_View\")"
   ]
  },
  {
   "cell_type": "code",
   "execution_count": null,
   "metadata": {},
   "outputs": [],
   "source": [
    "# Não podemos visualizar ainda, pois temos que gerar o stream do Spark Streaming\n",
    "# musicas_stream.show()"
   ]
  },
  {
   "cell_type": "code",
   "execution_count": 16,
   "metadata": {},
   "outputs": [
    {
     "data": {
      "text/plain": [
       "False"
      ]
     },
     "execution_count": 16,
     "metadata": {},
     "output_type": "execute_result"
    }
   ],
   "source": [
    "# Criamos o stream de dados no Spark Streaming\n",
    "musicas_stream_spark = musicas_stream \\\n",
    "        .writeStream \\\n",
    "        .trigger(processingTime = '5 seconds') \\\n",
    "        .outputMode(\"append\") \\\n",
    "        .option(\"truncate\", \"false\") \\\n",
    "        .format(\"memory\") \\\n",
    "        .queryName(\"tabela_spark\") \\\n",
    "        .start()\n",
    "\n",
    "musicas_stream_spark.awaitTermination(1)"
   ]
  },
  {
   "cell_type": "code",
   "execution_count": 17,
   "metadata": {},
   "outputs": [
    {
     "name": "stderr",
     "output_type": "stream",
     "text": [
      "                                                                                \r"
     ]
    }
   ],
   "source": [
    "# Selecionamos as músicas da tabela de stream do Spark\n",
    "spark_songs = spark.sql(\"SELECT * FROM tabela_spark\")"
   ]
  },
  {
   "cell_type": "code",
   "execution_count": 18,
   "metadata": {},
   "outputs": [
    {
     "name": "stdout",
     "output_type": "stream",
     "text": [
      "+--------+--------------------+-------------+----------+-----------+--------------+------------------+------------+------------+------+---+--------+----+-----------+------------+----------------+--------+-------+-------+--------------+--------------------+\n",
      "|order_id|                  id|         name|popularity|duration_ms|       artists|        id_artists|release_date|danceability|energy|key|loudness|mode|speechiness|acousticness|instrumentalness|liveness|valence|  tempo|time_signature|           timestamp|\n",
      "+--------+--------------------+-------------+----------+-----------+--------------+------------------+------------+------------+------+---+--------+----+-----------+------------+----------------+--------+-------+-------+--------------+--------------------+\n",
      "|      86|1NWDNrIUlFErxcibR...|   On My Way!|        39|   171984.0|         AWall|OjNTXbkrdGcBstaUOV|  2018-07-14|       0.717| 0.543|  6|  -8.008|   1|     0.0327|       0.257|             0.0|  0.0949|  0.456| 133.96|           4.0|2023-05-16 23:24:...|\n",
      "|      87|2OS0B2x6aNyPtcN3j...|Not Your Prey|        33|   214586.0|SquirrelFlower|bIvNGBBhqiGfytctni|  2018-07-20|       0.352|  0.55|  2|   -6.98|   1|     0.0317|        0.27|         0.00656|   0.096|  0.282|135.261|           4.0|2023-05-16 23:24:...|\n",
      "+--------+--------------------+-------------+----------+-----------+--------------+------------------+------------+------------+------+---+--------+----+-----------+------------+----------------+--------+-------+-------+--------------+--------------------+\n",
      "\n"
     ]
    }
   ],
   "source": [
    "# Agora sim podemos visualizar o stream em tempo real como tabela do Spark\n",
    "spark_songs.show(5)"
   ]
  },
  {
   "cell_type": "code",
   "execution_count": 19,
   "metadata": {},
   "outputs": [
    {
     "name": "stdout",
     "output_type": "stream",
     "text": [
      "+--------+--------------------+--------------+----------+-----------+--------------+\n",
      "|order_id|                  id|          name|popularity|duration_ms|       artists|\n",
      "+--------+--------------------+--------------+----------+-----------+--------------+\n",
      "|      86|1NWDNrIUlFErxcibR...|    On My Way!|        39|   171984.0|         AWall|\n",
      "|      87|2OS0B2x6aNyPtcN3j...| Not Your Prey|        33|   214586.0|SquirrelFlower|\n",
      "|      88|4mulBtb3PtmjuUmXl...|       Vibrate|        28|   196414.0|          host|\n",
      "|      89|5GFvl7wTZDzkFmXxj...|    Dolla Bill|         5|   237913.0|           Hue|\n",
      "|      90|3xGUnyCvQW1Hg0bZk...|Feel Like That|        10|   156000.0|           YTK|\n",
      "+--------+--------------------+--------------+----------+-----------+--------------+\n",
      "only showing top 5 rows\n",
      "\n"
     ]
    }
   ],
   "source": [
    "# Podemos visualizar apenas algumas colunas, por exemplo\n",
    "spark_songs.select('order_id', 'id', 'name', 'popularity', 'duration_ms', 'artists').show(5)"
   ]
  },
  {
   "cell_type": "code",
   "execution_count": 30,
   "metadata": {},
   "outputs": [
    {
     "data": {
      "text/plain": [
       "102"
      ]
     },
     "execution_count": 30,
     "metadata": {},
     "output_type": "execute_result"
    }
   ],
   "source": [
    "# Contagem de músicas extraídas em tempo real\n",
    "spark_songs.count()"
   ]
  },
  {
   "cell_type": "markdown",
   "metadata": {},
   "source": [
    "Aguarde alguns minutos antes de seguir com a execução para que o streaming de dados possa ser coletado."
   ]
  },
  {
   "cell_type": "markdown",
   "metadata": {},
   "source": [
    "> Vamos agora trabalhar na extração de dados do Spotify."
   ]
  },
  {
   "cell_type": "code",
   "execution_count": null,
   "metadata": {},
   "outputs": [],
   "source": [
    "# https://pypi.org/project/spotipy/\n",
    "!pip install spotipy==2.22.1"
   ]
  },
  {
   "cell_type": "code",
   "execution_count": 31,
   "metadata": {},
   "outputs": [],
   "source": [
    "# Imports\n",
    "import os\n",
    "import ujson\n",
    "import spotipy\n",
    "import spotipy.util\n",
    "from pyspark.ml.feature import VectorAssembler\n",
    "from pyspark.ml.feature import StandardScaler\n",
    "from pyspark.ml.clustering import KMeans\n",
    "from pyspark.ml.evaluation import ClusteringEvaluator\n",
    "import numpy as np\n",
    "import pandas as pd\n",
    "import matplotlib.pyplot as plt\n",
    "import seaborn as sns\n",
    "from tqdm import tqdm\n",
    "import warnings\n",
    "warnings.filterwarnings(\"ignore\")"
   ]
  },
  {
   "cell_type": "code",
   "execution_count": 32,
   "metadata": {},
   "outputs": [
    {
     "name": "stdout",
     "output_type": "stream",
     "text": [
      "Author: Data Science Academy\n",
      "\n",
      "sys       : 3.9.13 (main, Aug 25 2022, 23:26:10) \n",
      "[GCC 11.2.0]\n",
      "pandas    : 1.3.4\n",
      "seaborn   : 0.11.2\n",
      "matplotlib: 3.5.2\n",
      "ujson     : 5.4.0\n",
      "spotipy   : 2.22.1\n",
      "pyspark   : 3.3.1\n",
      "numpy     : 1.22.4\n",
      "\n"
     ]
    }
   ],
   "source": [
    "# Versões dos pacotes usados neste jupyter notebook\n",
    "%reload_ext watermark\n",
    "%watermark -a \"Data Science Academy\" --iversions"
   ]
  },
  {
   "cell_type": "markdown",
   "metadata": {},
   "source": [
    "Leia o manual em pdf no Capítulo 16 do curso com os detalhes sobre a criação da API."
   ]
  },
  {
   "cell_type": "code",
   "execution_count": 33,
   "metadata": {},
   "outputs": [],
   "source": [
    "# Aqui você coloca as suas chaves da API do Spotify\n",
    "os.environ[\"SPOTIPY_CLIENT_ID\"] = 'CLIENT_ID'\n",
    "os.environ[\"SPOTIPY_CLIENT_SECRET\"] = 'CLIENT_SECRET'\n",
    "os.environ[\"SPOTIPY_REDIRECT_URI\"] = 'http://localhost:7777/callback'"
   ]
  },
  {
   "cell_type": "markdown",
   "metadata": {},
   "source": [
    "https://developer.spotify.com/documentation/general/guides/authorization/scopes/"
   ]
  },
  {
   "cell_type": "code",
   "execution_count": 34,
   "metadata": {},
   "outputs": [],
   "source": [
    "# Escopo de extração das preferências do usuário\n",
    "scope = 'user-library-read'"
   ]
  },
  {
   "cell_type": "code",
   "execution_count": 35,
   "metadata": {},
   "outputs": [],
   "source": [
    "# Username no Spotify\n",
    "username = 'evandrocleto74@gmail.com'"
   ]
  },
  {
   "cell_type": "code",
   "execution_count": 36,
   "metadata": {},
   "outputs": [],
   "source": [
    "# Criação do tohen de acesso\n",
    "token = spotipy.util.prompt_for_user_token(username, scope)"
   ]
  },
  {
   "cell_type": "code",
   "execution_count": 37,
   "metadata": {},
   "outputs": [],
   "source": [
    "# Cria o objeto de autenticação\n",
    "spotipy_obj = spotipy.Spotify(auth = token)"
   ]
  },
  {
   "cell_type": "code",
   "execution_count": 38,
   "metadata": {},
   "outputs": [],
   "source": [
    "# Extrai até 50 músicas da lista de favoritos do usuário\n",
    "saved_tracks = spotipy_obj.current_user_saved_tracks(limit = 50) "
   ]
  },
  {
   "cell_type": "code",
   "execution_count": 39,
   "metadata": {},
   "outputs": [
    {
     "name": "stdout",
     "output_type": "stream",
     "text": [
      "Total de Tracks: 372 \n"
     ]
    }
   ],
   "source": [
    "# Número de músicas extraídas\n",
    "n_tracks = saved_tracks['total']\n",
    "print('Total de Tracks: %d ' % n_tracks)"
   ]
  },
  {
   "cell_type": "code",
   "execution_count": 40,
   "metadata": {},
   "outputs": [],
   "source": [
    "# Função para extrair os atributos da lista de músicas do usuário\n",
    "def select_features(track_response):\n",
    "    return {        \n",
    "        'id': str(track_response['track']['id']),\n",
    "        'name': str(track_response['track']['name']),\n",
    "        'artists': [artist['name'] for artist in track_response['track']['artists']],\n",
    "        'popularity': track_response['track']['popularity']\n",
    "    }"
   ]
  },
  {
   "cell_type": "code",
   "execution_count": 41,
   "metadata": {},
   "outputs": [],
   "source": [
    "# Aplica a função\n",
    "tracks = [select_features(track) for track in saved_tracks['items']]"
   ]
  },
  {
   "cell_type": "code",
   "execution_count": 42,
   "metadata": {},
   "outputs": [],
   "source": [
    "# Extrai os atributos das músicas preferidas do usuário\n",
    "while saved_tracks['next']:\n",
    "    saved_tracks = spotipy_obj.next(saved_tracks)\n",
    "    tracks.extend([select_features(track) for track in saved_tracks['items']])"
   ]
  },
  {
   "cell_type": "code",
   "execution_count": 43,
   "metadata": {},
   "outputs": [],
   "source": [
    "# Criamos o dataframe do pandas\n",
    "df_tracks = pd.DataFrame(tracks)\n",
    "pd.set_option('display.max_rows', len(tracks))\n",
    "df_tracks['artists'] = df_tracks['artists'].apply(lambda artists: artists[0])"
   ]
  },
  {
   "cell_type": "code",
   "execution_count": 44,
   "metadata": {},
   "outputs": [
    {
     "data": {
      "text/html": [
       "<div>\n",
       "<style scoped>\n",
       "    .dataframe tbody tr th:only-of-type {\n",
       "        vertical-align: middle;\n",
       "    }\n",
       "\n",
       "    .dataframe tbody tr th {\n",
       "        vertical-align: top;\n",
       "    }\n",
       "\n",
       "    .dataframe thead th {\n",
       "        text-align: right;\n",
       "    }\n",
       "</style>\n",
       "<table border=\"1\" class=\"dataframe\">\n",
       "  <thead>\n",
       "    <tr style=\"text-align: right;\">\n",
       "      <th></th>\n",
       "      <th>id</th>\n",
       "      <th>name</th>\n",
       "      <th>artists</th>\n",
       "      <th>popularity</th>\n",
       "    </tr>\n",
       "  </thead>\n",
       "  <tbody>\n",
       "    <tr>\n",
       "      <th>0</th>\n",
       "      <td>5knlppPUmTNFVkTul5EjnI</td>\n",
       "      <td>Kind</td>\n",
       "      <td>10mg</td>\n",
       "      <td>7</td>\n",
       "    </tr>\n",
       "    <tr>\n",
       "      <th>1</th>\n",
       "      <td>4OROzZUy6gOWN4UGQVaZMF</td>\n",
       "      <td>The Trooper - 2015 Remaster</td>\n",
       "      <td>Iron Maiden</td>\n",
       "      <td>76</td>\n",
       "    </tr>\n",
       "    <tr>\n",
       "      <th>2</th>\n",
       "      <td>5sqN1halvJIprLduPPqIoe</td>\n",
       "      <td>Metropolis</td>\n",
       "      <td>Motörhead</td>\n",
       "      <td>34</td>\n",
       "    </tr>\n",
       "    <tr>\n",
       "      <th>3</th>\n",
       "      <td>4zU8R38mRpOQbbtrSjdUUq</td>\n",
       "      <td>Metropolis</td>\n",
       "      <td>The Church</td>\n",
       "      <td>39</td>\n",
       "    </tr>\n",
       "    <tr>\n",
       "      <th>4</th>\n",
       "      <td>05f8Hg3RSfiPSCBQOtxl3i</td>\n",
       "      <td>When the Levee Breaks - Remaster</td>\n",
       "      <td>Led Zeppelin</td>\n",
       "      <td>65</td>\n",
       "    </tr>\n",
       "    <tr>\n",
       "      <th>5</th>\n",
       "      <td>2EEinN4Zk8MUv4OQuLsTBj</td>\n",
       "      <td>Age of Consent - 2015 Remaster</td>\n",
       "      <td>New Order</td>\n",
       "      <td>67</td>\n",
       "    </tr>\n",
       "    <tr>\n",
       "      <th>6</th>\n",
       "      <td>72Z17vmmeQKAg8bptWvpVG</td>\n",
       "      <td>Space Oddity - 2015 Remaster</td>\n",
       "      <td>David Bowie</td>\n",
       "      <td>73</td>\n",
       "    </tr>\n",
       "    <tr>\n",
       "      <th>7</th>\n",
       "      <td>4r8AQvzullpWTDpgv70KxD</td>\n",
       "      <td>The Rover - Remaster</td>\n",
       "      <td>Led Zeppelin</td>\n",
       "      <td>56</td>\n",
       "    </tr>\n",
       "    <tr>\n",
       "      <th>8</th>\n",
       "      <td>6k6j3ZUljY1QLTMbc8VqB0</td>\n",
       "      <td>Ballroom Blitz</td>\n",
       "      <td>Sweet</td>\n",
       "      <td>59</td>\n",
       "    </tr>\n",
       "    <tr>\n",
       "      <th>9</th>\n",
       "      <td>6BU33g1GBGk1eWdax2Rpmh</td>\n",
       "      <td>Blockbuster</td>\n",
       "      <td>Sweet</td>\n",
       "      <td>39</td>\n",
       "    </tr>\n",
       "  </tbody>\n",
       "</table>\n",
       "</div>"
      ],
      "text/plain": [
       "                       id                              name       artists  \\\n",
       "0  5knlppPUmTNFVkTul5EjnI                              Kind          10mg   \n",
       "1  4OROzZUy6gOWN4UGQVaZMF       The Trooper - 2015 Remaster   Iron Maiden   \n",
       "2  5sqN1halvJIprLduPPqIoe                        Metropolis     Motörhead   \n",
       "3  4zU8R38mRpOQbbtrSjdUUq                        Metropolis    The Church   \n",
       "4  05f8Hg3RSfiPSCBQOtxl3i  When the Levee Breaks - Remaster  Led Zeppelin   \n",
       "5  2EEinN4Zk8MUv4OQuLsTBj    Age of Consent - 2015 Remaster     New Order   \n",
       "6  72Z17vmmeQKAg8bptWvpVG      Space Oddity - 2015 Remaster   David Bowie   \n",
       "7  4r8AQvzullpWTDpgv70KxD              The Rover - Remaster  Led Zeppelin   \n",
       "8  6k6j3ZUljY1QLTMbc8VqB0                    Ballroom Blitz         Sweet   \n",
       "9  6BU33g1GBGk1eWdax2Rpmh                       Blockbuster         Sweet   \n",
       "\n",
       "   popularity  \n",
       "0           7  \n",
       "1          76  \n",
       "2          34  \n",
       "3          39  \n",
       "4          65  \n",
       "5          67  \n",
       "6          73  \n",
       "7          56  \n",
       "8          59  \n",
       "9          39  "
      ]
     },
     "execution_count": 44,
     "metadata": {},
     "output_type": "execute_result"
    }
   ],
   "source": [
    "df_tracks.head(10)"
   ]
  },
  {
   "cell_type": "code",
   "execution_count": 45,
   "metadata": {},
   "outputs": [],
   "source": [
    "# Dicionário para os atributos de áudio\n",
    "audio_features = {}"
   ]
  },
  {
   "cell_type": "code",
   "execution_count": 46,
   "metadata": {},
   "outputs": [
    {
     "name": "stderr",
     "output_type": "stream",
     "text": [
      "                                                                                \r"
     ]
    }
   ],
   "source": [
    "# Extrai os atributos de áudio\n",
    "for idd in df_tracks['id'].tolist():\n",
    "    audio_features[idd] = spotipy_obj.audio_features(idd)[0]"
   ]
  },
  {
   "cell_type": "code",
   "execution_count": 47,
   "metadata": {},
   "outputs": [],
   "source": [
    "# Adicionamos os atributos de áudio ao dataframe\n",
    "df_tracks['acousticness'] = df_tracks['id'].apply(lambda idd: audio_features[idd]['acousticness'])\n",
    "df_tracks['speechiness'] = df_tracks['id'].apply(lambda idd: audio_features[idd]['speechiness'])\n",
    "df_tracks['key'] = df_tracks['id'].apply(lambda idd: str(audio_features[idd]['key']))\n",
    "df_tracks['liveness'] = df_tracks['id'].apply(lambda idd: audio_features[idd]['liveness'])\n",
    "df_tracks['instrumentalness'] = df_tracks['id'].apply(lambda idd: audio_features[idd]['instrumentalness'])\n",
    "df_tracks['energy'] = df_tracks['id'].apply(lambda idd: audio_features[idd]['energy'])\n",
    "df_tracks['tempo'] = df_tracks['id'].apply(lambda idd: audio_features[idd]['tempo'])\n",
    "df_tracks['loudness'] = df_tracks['id'].apply(lambda idd: audio_features[idd]['loudness'])\n",
    "df_tracks['danceability'] = df_tracks['id'].apply(lambda idd: audio_features[idd]['danceability'])\n",
    "df_tracks['valence'] = df_tracks['id'].apply(lambda idd: audio_features[idd]['valence'])"
   ]
  },
  {
   "cell_type": "code",
   "execution_count": 48,
   "metadata": {},
   "outputs": [
    {
     "data": {
      "text/html": [
       "<div>\n",
       "<style scoped>\n",
       "    .dataframe tbody tr th:only-of-type {\n",
       "        vertical-align: middle;\n",
       "    }\n",
       "\n",
       "    .dataframe tbody tr th {\n",
       "        vertical-align: top;\n",
       "    }\n",
       "\n",
       "    .dataframe thead th {\n",
       "        text-align: right;\n",
       "    }\n",
       "</style>\n",
       "<table border=\"1\" class=\"dataframe\">\n",
       "  <thead>\n",
       "    <tr style=\"text-align: right;\">\n",
       "      <th></th>\n",
       "      <th>id</th>\n",
       "      <th>name</th>\n",
       "      <th>artists</th>\n",
       "      <th>popularity</th>\n",
       "      <th>acousticness</th>\n",
       "      <th>speechiness</th>\n",
       "      <th>key</th>\n",
       "      <th>liveness</th>\n",
       "      <th>instrumentalness</th>\n",
       "      <th>energy</th>\n",
       "      <th>tempo</th>\n",
       "      <th>loudness</th>\n",
       "      <th>danceability</th>\n",
       "      <th>valence</th>\n",
       "    </tr>\n",
       "  </thead>\n",
       "  <tbody>\n",
       "    <tr>\n",
       "      <th>0</th>\n",
       "      <td>5knlppPUmTNFVkTul5EjnI</td>\n",
       "      <td>Kind</td>\n",
       "      <td>10mg</td>\n",
       "      <td>7</td>\n",
       "      <td>0.00218</td>\n",
       "      <td>0.0415</td>\n",
       "      <td>2</td>\n",
       "      <td>0.1050</td>\n",
       "      <td>0.000087</td>\n",
       "      <td>0.778</td>\n",
       "      <td>159.992</td>\n",
       "      <td>-4.662</td>\n",
       "      <td>0.526</td>\n",
       "      <td>0.4450</td>\n",
       "    </tr>\n",
       "    <tr>\n",
       "      <th>1</th>\n",
       "      <td>4OROzZUy6gOWN4UGQVaZMF</td>\n",
       "      <td>The Trooper - 2015 Remaster</td>\n",
       "      <td>Iron Maiden</td>\n",
       "      <td>76</td>\n",
       "      <td>0.03180</td>\n",
       "      <td>0.0705</td>\n",
       "      <td>4</td>\n",
       "      <td>0.3110</td>\n",
       "      <td>0.009090</td>\n",
       "      <td>0.908</td>\n",
       "      <td>159.756</td>\n",
       "      <td>-4.601</td>\n",
       "      <td>0.285</td>\n",
       "      <td>0.6690</td>\n",
       "    </tr>\n",
       "    <tr>\n",
       "      <th>2</th>\n",
       "      <td>5sqN1halvJIprLduPPqIoe</td>\n",
       "      <td>Metropolis</td>\n",
       "      <td>Motörhead</td>\n",
       "      <td>34</td>\n",
       "      <td>0.00005</td>\n",
       "      <td>0.0307</td>\n",
       "      <td>2</td>\n",
       "      <td>0.0916</td>\n",
       "      <td>0.761000</td>\n",
       "      <td>0.656</td>\n",
       "      <td>108.987</td>\n",
       "      <td>-7.668</td>\n",
       "      <td>0.426</td>\n",
       "      <td>0.0552</td>\n",
       "    </tr>\n",
       "    <tr>\n",
       "      <th>3</th>\n",
       "      <td>4zU8R38mRpOQbbtrSjdUUq</td>\n",
       "      <td>Metropolis</td>\n",
       "      <td>The Church</td>\n",
       "      <td>39</td>\n",
       "      <td>0.02060</td>\n",
       "      <td>0.0311</td>\n",
       "      <td>4</td>\n",
       "      <td>0.0640</td>\n",
       "      <td>0.001130</td>\n",
       "      <td>0.637</td>\n",
       "      <td>123.706</td>\n",
       "      <td>-11.341</td>\n",
       "      <td>0.554</td>\n",
       "      <td>0.6650</td>\n",
       "    </tr>\n",
       "    <tr>\n",
       "      <th>4</th>\n",
       "      <td>05f8Hg3RSfiPSCBQOtxl3i</td>\n",
       "      <td>When the Levee Breaks - Remaster</td>\n",
       "      <td>Led Zeppelin</td>\n",
       "      <td>65</td>\n",
       "      <td>0.00217</td>\n",
       "      <td>0.0329</td>\n",
       "      <td>5</td>\n",
       "      <td>0.0707</td>\n",
       "      <td>0.520000</td>\n",
       "      <td>0.766</td>\n",
       "      <td>142.914</td>\n",
       "      <td>-8.030</td>\n",
       "      <td>0.271</td>\n",
       "      <td>0.8030</td>\n",
       "    </tr>\n",
       "  </tbody>\n",
       "</table>\n",
       "</div>"
      ],
      "text/plain": [
       "                       id                              name       artists  \\\n",
       "0  5knlppPUmTNFVkTul5EjnI                              Kind          10mg   \n",
       "1  4OROzZUy6gOWN4UGQVaZMF       The Trooper - 2015 Remaster   Iron Maiden   \n",
       "2  5sqN1halvJIprLduPPqIoe                        Metropolis     Motörhead   \n",
       "3  4zU8R38mRpOQbbtrSjdUUq                        Metropolis    The Church   \n",
       "4  05f8Hg3RSfiPSCBQOtxl3i  When the Levee Breaks - Remaster  Led Zeppelin   \n",
       "\n",
       "   popularity  acousticness  speechiness key  liveness  instrumentalness  \\\n",
       "0           7       0.00218       0.0415   2    0.1050          0.000087   \n",
       "1          76       0.03180       0.0705   4    0.3110          0.009090   \n",
       "2          34       0.00005       0.0307   2    0.0916          0.761000   \n",
       "3          39       0.02060       0.0311   4    0.0640          0.001130   \n",
       "4          65       0.00217       0.0329   5    0.0707          0.520000   \n",
       "\n",
       "   energy    tempo  loudness  danceability  valence  \n",
       "0   0.778  159.992    -4.662         0.526   0.4450  \n",
       "1   0.908  159.756    -4.601         0.285   0.6690  \n",
       "2   0.656  108.987    -7.668         0.426   0.0552  \n",
       "3   0.637  123.706   -11.341         0.554   0.6650  \n",
       "4   0.766  142.914    -8.030         0.271   0.8030  "
      ]
     },
     "execution_count": 48,
     "metadata": {},
     "output_type": "execute_result"
    }
   ],
   "source": [
    "df_tracks.head()"
   ]
  },
  {
   "cell_type": "code",
   "execution_count": 49,
   "metadata": {},
   "outputs": [
    {
     "data": {
      "text/html": [
       "<div>\n",
       "<style scoped>\n",
       "    .dataframe tbody tr th:only-of-type {\n",
       "        vertical-align: middle;\n",
       "    }\n",
       "\n",
       "    .dataframe tbody tr th {\n",
       "        vertical-align: top;\n",
       "    }\n",
       "\n",
       "    .dataframe thead th {\n",
       "        text-align: right;\n",
       "    }\n",
       "</style>\n",
       "<table border=\"1\" class=\"dataframe\">\n",
       "  <thead>\n",
       "    <tr style=\"text-align: right;\">\n",
       "      <th></th>\n",
       "      <th>id</th>\n",
       "      <th>name</th>\n",
       "      <th>artists</th>\n",
       "      <th>popularity</th>\n",
       "      <th>acousticness</th>\n",
       "      <th>speechiness</th>\n",
       "      <th>key</th>\n",
       "      <th>liveness</th>\n",
       "      <th>instrumentalness</th>\n",
       "      <th>energy</th>\n",
       "      <th>tempo</th>\n",
       "      <th>loudness</th>\n",
       "      <th>danceability</th>\n",
       "      <th>valence</th>\n",
       "    </tr>\n",
       "  </thead>\n",
       "  <tbody>\n",
       "    <tr>\n",
       "      <th>23</th>\n",
       "      <td>5wmkNYIJBO4JqKYtlBFvgK</td>\n",
       "      <td>Goddess of Dawn</td>\n",
       "      <td>Kadavar</td>\n",
       "      <td>0</td>\n",
       "      <td>0.152</td>\n",
       "      <td>0.0723</td>\n",
       "      <td>3</td>\n",
       "      <td>0.123</td>\n",
       "      <td>0.0356</td>\n",
       "      <td>0.957</td>\n",
       "      <td>186.498</td>\n",
       "      <td>-1.07</td>\n",
       "      <td>0.0896</td>\n",
       "      <td>0.399</td>\n",
       "    </tr>\n",
       "  </tbody>\n",
       "</table>\n",
       "</div>"
      ],
      "text/plain": [
       "                        id             name  artists  popularity  \\\n",
       "23  5wmkNYIJBO4JqKYtlBFvgK  Goddess of Dawn  Kadavar           0   \n",
       "\n",
       "    acousticness  speechiness key  liveness  instrumentalness  energy  \\\n",
       "23         0.152       0.0723   3     0.123            0.0356   0.957   \n",
       "\n",
       "      tempo  loudness  danceability  valence  \n",
       "23  186.498     -1.07        0.0896    0.399  "
      ]
     },
     "execution_count": 49,
     "metadata": {},
     "output_type": "execute_result"
    }
   ],
   "source": [
    "# Selecionamos uma música randomicamente\n",
    "musica_randomica = random. randint(0,len(df_tracks)-1)\n",
    "df_musica_randomica = df_tracks.head(musica_randomica)[-1:]\n",
    "df_musica_randomica"
   ]
  },
  {
   "cell_type": "code",
   "execution_count": 50,
   "metadata": {},
   "outputs": [
    {
     "name": "stdout",
     "output_type": "stream",
     "text": [
      "+--------+--------------------+--------------+----------+-----------+--------------+-------------------+------------+------------+------+---+--------+----+-----------+------------+----------------+--------+-------+-------+--------------+--------------------+\n",
      "|order_id|                  id|          name|popularity|duration_ms|       artists|         id_artists|release_date|danceability|energy|key|loudness|mode|speechiness|acousticness|instrumentalness|liveness|valence|  tempo|time_signature|           timestamp|\n",
      "+--------+--------------------+--------------+----------+-----------+--------------+-------------------+------------+------------+------+---+--------+----+-----------+------------+----------------+--------+-------+-------+--------------+--------------------+\n",
      "|      86|1NWDNrIUlFErxcibR...|    On My Way!|        39|   171984.0|         AWall| OjNTXbkrdGcBstaUOV|  2018-07-14|       0.717| 0.543|  6|  -8.008|   1|     0.0327|       0.257|             0.0|  0.0949|  0.456| 133.96|           4.0|2023-05-16 23:24:...|\n",
      "|      87|2OS0B2x6aNyPtcN3j...| Not Your Prey|        33|   214586.0|SquirrelFlower| bIvNGBBhqiGfytctni|  2018-07-20|       0.352|  0.55|  2|   -6.98|   1|     0.0317|        0.27|         0.00656|   0.096|  0.282|135.261|           4.0|2023-05-16 23:24:...|\n",
      "|      88|4mulBtb3PtmjuUmXl...|       Vibrate|        28|   196414.0|          host| GPySZUhhFtHpKtZJox|  2018-07-09|       0.248| 0.674|  1|  -2.765|   1|     0.0719|      0.0593|             0.0|  0.0678|  0.207| 68.661|           5.0|2023-05-16 23:24:...|\n",
      "|      89|5GFvl7wTZDzkFmXxj...|    Dolla Bill|         5|   237913.0|           Hue|   fpPEITOoNDzenfiF|  2018-07-10|       0.636| 0.714|  3| -12.587|   1|      0.113|      0.0116|             0.0|   0.366|  0.796|114.866|           4.0|2023-05-16 23:24:...|\n",
      "|      90|3xGUnyCvQW1Hg0bZk...|Feel Like That|        10|   156000.0|           YTK|QsNZJTLzhVSAzMxjLeb|  2018-07-13|       0.666| 0.441|  2| -10.469|   1|      0.362|       0.045|             0.0|  0.0551|  0.424| 80.109|           4.0|2023-05-16 23:24:...|\n",
      "+--------+--------------------+--------------+----------+-----------+--------------+-------------------+------------+------------+------+---+--------+----+-----------+------------+----------------+--------+-------+-------+--------------+--------------------+\n",
      "only showing top 5 rows\n",
      "\n"
     ]
    }
   ],
   "source": [
    "# Músicas do streaming do Spark\n",
    "spark_songs.show(5)"
   ]
  },
  {
   "cell_type": "code",
   "execution_count": 51,
   "metadata": {},
   "outputs": [],
   "source": [
    "# Não precisamos mais dessas colunas\n",
    "spark_songs = spark_songs.drop('order_id', \n",
    "                               'mode', \n",
    "                               'release_date', \n",
    "                               'id_artists',\n",
    "                               'time_signature', \n",
    "                               'duration_ms',\n",
    "                               'timestamp')"
   ]
  },
  {
   "cell_type": "code",
   "execution_count": 52,
   "metadata": {},
   "outputs": [],
   "source": [
    "# Cria o dataframe com a música escolhida randomicamente\n",
    "df_sp = spark.createDataFrame(df_musica_randomica)"
   ]
  },
  {
   "cell_type": "code",
   "execution_count": 53,
   "metadata": {},
   "outputs": [],
   "source": [
    "# Concatena músicas do streaming do Spark com a música do Spotify\n",
    "df = spark_songs.union(df_sp)"
   ]
  },
  {
   "cell_type": "code",
   "execution_count": 54,
   "metadata": {},
   "outputs": [
    {
     "name": "stdout",
     "output_type": "stream",
     "text": [
      "+--------------------+--------------+----------+--------------+------------+------+---+--------+-----------+------------+----------------+--------+-------+-------+\n",
      "|                  id|          name|popularity|       artists|danceability|energy|key|loudness|speechiness|acousticness|instrumentalness|liveness|valence|  tempo|\n",
      "+--------------------+--------------+----------+--------------+------------+------+---+--------+-----------+------------+----------------+--------+-------+-------+\n",
      "|1NWDNrIUlFErxcibR...|    On My Way!|        39|         AWall|       0.717| 0.543|  6|  -8.008|     0.0327|       0.257|             0.0|  0.0949|  0.456| 133.96|\n",
      "|2OS0B2x6aNyPtcN3j...| Not Your Prey|        33|SquirrelFlower|       0.352|  0.55|  2|   -6.98|     0.0317|        0.27|         0.00656|   0.096|  0.282|135.261|\n",
      "|4mulBtb3PtmjuUmXl...|       Vibrate|        28|          host|       0.248| 0.674|  1|  -2.765|     0.0719|      0.0593|             0.0|  0.0678|  0.207| 68.661|\n",
      "|5GFvl7wTZDzkFmXxj...|    Dolla Bill|         5|           Hue|       0.636| 0.714|  3| -12.587|      0.113|      0.0116|             0.0|   0.366|  0.796|114.866|\n",
      "|3xGUnyCvQW1Hg0bZk...|Feel Like That|        10|           YTK|       0.666| 0.441|  2| -10.469|      0.362|       0.045|             0.0|  0.0551|  0.424| 80.109|\n",
      "+--------------------+--------------+----------+--------------+------------+------+---+--------+-----------+------------+----------------+--------+-------+-------+\n",
      "only showing top 5 rows\n",
      "\n"
     ]
    },
    {
     "name": "stderr",
     "output_type": "stream",
     "text": [
      "\r\n",
      "[Stage 88:>                                                         (0 + 1) / 1]\r\n",
      "\r\n",
      "                                                                                \r"
     ]
    }
   ],
   "source": [
    "df.show(5)"
   ]
  },
  {
   "cell_type": "markdown",
   "metadata": {},
   "source": [
    "## Pré-Processamento dos Dados"
   ]
  },
  {
   "cell_type": "code",
   "execution_count": 55,
   "metadata": {},
   "outputs": [],
   "source": [
    "# Preparamos o VectorAssembler\n",
    "vetor = VectorAssembler(inputCols = ['danceability',\n",
    "                                     'energy',\n",
    "                                     'loudness',\n",
    "                                     'speechiness',\n",
    "                                     'acousticness',\n",
    "                                     'instrumentalness',\n",
    "                                     'liveness',\n",
    "                                     'valence',\n",
    "                                     'tempo'], \n",
    "                        outputCol = 'song_features')"
   ]
  },
  {
   "cell_type": "code",
   "execution_count": 56,
   "metadata": {},
   "outputs": [],
   "source": [
    "# Descartamos valores inválidos\n",
    "assembled = vetor.setHandleInvalid(\"skip\").transform(df)"
   ]
  },
  {
   "cell_type": "code",
   "execution_count": 57,
   "metadata": {},
   "outputs": [],
   "source": [
    "# Preparamos o padronizador\n",
    "std = StandardScaler(inputCol = 'song_features', outputCol = 'standardized')"
   ]
  },
  {
   "cell_type": "code",
   "execution_count": 58,
   "metadata": {},
   "outputs": [
    {
     "name": "stderr",
     "output_type": "stream",
     "text": [
      "                                                                                \r"
     ]
    }
   ],
   "source": [
    "# Treinamos o padronizador\n",
    "scale = std.fit(assembled)"
   ]
  },
  {
   "cell_type": "code",
   "execution_count": 59,
   "metadata": {},
   "outputs": [],
   "source": [
    "# Dataframe com dados padronizados\n",
    "df = scale.transform(assembled)"
   ]
  },
  {
   "cell_type": "code",
   "execution_count": 60,
   "metadata": {},
   "outputs": [
    {
     "name": "stdout",
     "output_type": "stream",
     "text": [
      "+--------------------+--------------+----------+--------------+------------+------+---+--------+-----------+------------+----------------+--------+-------+-------+--------------------+--------------------+\n",
      "|                  id|          name|popularity|       artists|danceability|energy|key|loudness|speechiness|acousticness|instrumentalness|liveness|valence|  tempo|       song_features|        standardized|\n",
      "+--------------------+--------------+----------+--------------+------------+------+---+--------+-----------+------------+----------------+--------+-------+-------+--------------------+--------------------+\n",
      "|1NWDNrIUlFErxcibR...|    On My Way!|        39|         AWall|       0.717| 0.543|  6|  -8.008|     0.0327|       0.257|             0.0|  0.0949|  0.456| 133.96|[0.717,0.543,-8.0...|[4.37553952951519...|\n",
      "|2OS0B2x6aNyPtcN3j...| Not Your Prey|        33|SquirrelFlower|       0.352|  0.55|  2|   -6.98|     0.0317|        0.27|         0.00656|   0.096|  0.282|135.261|[0.352,0.55,-6.98...|[2.14810308840913...|\n",
      "|4mulBtb3PtmjuUmXl...|       Vibrate|        28|          host|       0.248| 0.674|  1|  -2.765|     0.0719|      0.0593|             0.0|  0.0678|  0.207| 68.661|[0.248,0.674,-2.7...|[1.51343626683370...|\n",
      "|5GFvl7wTZDzkFmXxj...|    Dolla Bill|         5|           Hue|       0.636| 0.714|  3| -12.587|      0.113|      0.0116|             0.0|   0.366|  0.796|114.866|[0.636,0.714,-12....|[3.88123171655741...|\n",
      "|3xGUnyCvQW1Hg0bZk...|Feel Like That|        10|           YTK|       0.666| 0.441|  2| -10.469|      0.362|       0.045|             0.0|  0.0551|  0.424| 80.109|[0.666,0.441,-10....|[4.06430868431955...|\n",
      "+--------------------+--------------+----------+--------------+------------+------+---+--------+-----------+------------+----------------+--------+-------+-------+--------------------+--------------------+\n",
      "only showing top 5 rows\n",
      "\n"
     ]
    }
   ],
   "source": [
    "df.show(5)"
   ]
  },
  {
   "cell_type": "markdown",
   "metadata": {},
   "source": [
    "## Machine Learning com Aprendizado Não Supervisionado"
   ]
  },
  {
   "cell_type": "code",
   "execution_count": 61,
   "metadata": {},
   "outputs": [],
   "source": [
    "# Cria o objeto do modelo\n",
    "objeto_KMeans = KMeans(featuresCol = 'standardized', k = 3)"
   ]
  },
  {
   "cell_type": "code",
   "execution_count": 62,
   "metadata": {},
   "outputs": [],
   "source": [
    "# Treina o modelo\n",
    "modelo_KMeans = objeto_KMeans.fit(df)"
   ]
  },
  {
   "cell_type": "code",
   "execution_count": 63,
   "metadata": {},
   "outputs": [],
   "source": [
    "# Previsões do modelo\n",
    "df_output = modelo_KMeans.transform(df)"
   ]
  },
  {
   "cell_type": "markdown",
   "metadata": {},
   "source": [
    "## Sistema de Recomendação"
   ]
  },
  {
   "cell_type": "code",
   "execution_count": 78,
   "metadata": {},
   "outputs": [],
   "source": [
    "# Classe\n",
    "class RecoSystem():\n",
    "    \n",
    "    # Método construtor\n",
    "    def __init__(self, data):\n",
    "        self.data_ = data\n",
    "    \n",
    "    # Método de recomendação\n",
    "    def Recomm(self, nome_musica, amount = 1):\n",
    "        \n",
    "        # Lista para as distâncias\n",
    "        distancias = []\n",
    "        \n",
    "        # Seleciona a música\n",
    "        song = self.data_[(self.data_.name.str.lower() == nome_musica.lower())].head(1).values[0]\n",
    "        res_dt = self.data_[self.data_.name.str.lower() != nome_musica.lower()]\n",
    "        \n",
    "        # Loop para o cálculo das distâncias\n",
    "        for i_song in tqdm(res_dt.values):\n",
    "            \n",
    "            # Inicializa a distância\n",
    "            distancia = 0\n",
    "            \n",
    "            # Loop para calcular a distância\n",
    "            for col in np.arange(len(res_dt.columns)):\n",
    "                if not col in [0,1,2,14]:\n",
    "                    distancia = distancia + np.absolute(float(song[col]) - float(i_song[col]))\n",
    "            \n",
    "            # Adiciona na lista de distâncias\n",
    "            distancias.append(distancia)\n",
    "        \n",
    "        res_dt['distance'] = distancias\n",
    "        res_dt = res_dt.sort_values('distance')\n",
    "        \n",
    "        columns = ['id','name', \n",
    "                   'artists', \n",
    "                   'acousticness', \n",
    "                   'liveness', \n",
    "                   'instrumentalness', \n",
    "                   'energy', \n",
    "                   'danceability', \n",
    "                   'valence']\n",
    "        \n",
    "        return res_dt[columns][:amount]"
   ]
  },
  {
   "cell_type": "code",
   "execution_count": 79,
   "metadata": {},
   "outputs": [],
   "source": [
    "# Nomes das colunas\n",
    "datalabel = df_output.select('id',\n",
    "                             'name',\n",
    "                             'artists',\n",
    "                             'danceability',\n",
    "                             'energy',\n",
    "                             'key',\n",
    "                             'loudness',\n",
    "                             'speechiness',\n",
    "                             'acousticness',\n",
    "                             'instrumentalness',\n",
    "                             'liveness',\n",
    "                             'valence',\n",
    "                             'tempo',\n",
    "                             'prediction')"
   ]
  },
  {
   "cell_type": "code",
   "execution_count": 80,
   "metadata": {},
   "outputs": [],
   "source": [
    "# Dataset final\n",
    "df_final = datalabel.toPandas()\n",
    "df_final.drop(df_final[df_final['artists'] == '0'].index, inplace = True)\n",
    "df_final.drop_duplicates(inplace = True)\n",
    "df_final.drop(df_final[df_final['danceability'] == 0.0000].index, inplace = True)\n",
    "df_final.drop(df_final[df_final['liveness'] == 0.000].index, inplace = True)\n",
    "df_final.drop(df_final[df_final['instrumentalness'] == 0.000000].index, inplace = True)\n",
    "df_final.drop(df_final[df_final['energy'] == 0.0000].index, inplace = True)\n",
    "df_final.drop(df_final[df_final['danceability'] == 0.000].index, inplace = True)\n",
    "df_final.drop(df_final[df_final['valence'] == 0.000].index, inplace = True)"
   ]
  },
  {
   "cell_type": "code",
   "execution_count": 81,
   "metadata": {},
   "outputs": [
    {
     "data": {
      "text/plain": [
       "(287, 14)"
      ]
     },
     "execution_count": 81,
     "metadata": {},
     "output_type": "execute_result"
    }
   ],
   "source": [
    "df_final.shape"
   ]
  },
  {
   "cell_type": "code",
   "execution_count": 82,
   "metadata": {},
   "outputs": [
    {
     "data": {
      "text/html": [
       "<div>\n",
       "<style scoped>\n",
       "    .dataframe tbody tr th:only-of-type {\n",
       "        vertical-align: middle;\n",
       "    }\n",
       "\n",
       "    .dataframe tbody tr th {\n",
       "        vertical-align: top;\n",
       "    }\n",
       "\n",
       "    .dataframe thead th {\n",
       "        text-align: right;\n",
       "    }\n",
       "</style>\n",
       "<table border=\"1\" class=\"dataframe\">\n",
       "  <thead>\n",
       "    <tr style=\"text-align: right;\">\n",
       "      <th></th>\n",
       "      <th>id</th>\n",
       "      <th>name</th>\n",
       "      <th>artists</th>\n",
       "      <th>danceability</th>\n",
       "      <th>energy</th>\n",
       "      <th>key</th>\n",
       "      <th>loudness</th>\n",
       "      <th>speechiness</th>\n",
       "      <th>acousticness</th>\n",
       "      <th>instrumentalness</th>\n",
       "      <th>liveness</th>\n",
       "      <th>valence</th>\n",
       "      <th>tempo</th>\n",
       "      <th>prediction</th>\n",
       "    </tr>\n",
       "  </thead>\n",
       "  <tbody>\n",
       "    <tr>\n",
       "      <th>58</th>\n",
       "      <td>0COfJVwsdgpIc1Ytz3WcJ0</td>\n",
       "      <td>Good Ole Urns</td>\n",
       "      <td>Pioneer</td>\n",
       "      <td>0.527</td>\n",
       "      <td>0.534</td>\n",
       "      <td>6</td>\n",
       "      <td>-10.396</td>\n",
       "      <td>0.0399</td>\n",
       "      <td>0.71500</td>\n",
       "      <td>0.6000</td>\n",
       "      <td>0.1260</td>\n",
       "      <td>0.237</td>\n",
       "      <td>87.011</td>\n",
       "      <td>0</td>\n",
       "    </tr>\n",
       "    <tr>\n",
       "      <th>14</th>\n",
       "      <td>1bX1nY3TlcAhbuL4UA3tQY</td>\n",
       "      <td>FOA</td>\n",
       "      <td>wwoman</td>\n",
       "      <td>0.713</td>\n",
       "      <td>0.687</td>\n",
       "      <td>2</td>\n",
       "      <td>-8.102</td>\n",
       "      <td>0.0319</td>\n",
       "      <td>0.04900</td>\n",
       "      <td>0.5640</td>\n",
       "      <td>0.2180</td>\n",
       "      <td>0.550</td>\n",
       "      <td>129.985</td>\n",
       "      <td>1</td>\n",
       "    </tr>\n",
       "    <tr>\n",
       "      <th>179</th>\n",
       "      <td>73zWJYU92MvjWD3N3v5evB</td>\n",
       "      <td>Tauri</td>\n",
       "      <td>TristanArp</td>\n",
       "      <td>0.552</td>\n",
       "      <td>0.566</td>\n",
       "      <td>10</td>\n",
       "      <td>-6.742</td>\n",
       "      <td>0.1260</td>\n",
       "      <td>0.04880</td>\n",
       "      <td>0.8910</td>\n",
       "      <td>0.0928</td>\n",
       "      <td>0.436</td>\n",
       "      <td>117.995</td>\n",
       "      <td>1</td>\n",
       "    </tr>\n",
       "    <tr>\n",
       "      <th>73</th>\n",
       "      <td>6yQrmJC8m8DUK0wuSDBYih</td>\n",
       "      <td>Every Road</td>\n",
       "      <td>TheBonyKingofNowhere</td>\n",
       "      <td>0.541</td>\n",
       "      <td>0.746</td>\n",
       "      <td>4</td>\n",
       "      <td>-9.869</td>\n",
       "      <td>0.0309</td>\n",
       "      <td>0.00297</td>\n",
       "      <td>0.0868</td>\n",
       "      <td>0.2290</td>\n",
       "      <td>0.556</td>\n",
       "      <td>119.802</td>\n",
       "      <td>1</td>\n",
       "    </tr>\n",
       "    <tr>\n",
       "      <th>264</th>\n",
       "      <td>37aYPJyhkxbsWVijwXtlrf</td>\n",
       "      <td>Anime</td>\n",
       "      <td>Fellsius</td>\n",
       "      <td>0.776</td>\n",
       "      <td>0.999</td>\n",
       "      <td>11</td>\n",
       "      <td>-2.737</td>\n",
       "      <td>0.1130</td>\n",
       "      <td>0.00169</td>\n",
       "      <td>0.3150</td>\n",
       "      <td>0.5130</td>\n",
       "      <td>0.907</td>\n",
       "      <td>125.999</td>\n",
       "      <td>1</td>\n",
       "    </tr>\n",
       "  </tbody>\n",
       "</table>\n",
       "</div>"
      ],
      "text/plain": [
       "                         id           name               artists  \\\n",
       "58   0COfJVwsdgpIc1Ytz3WcJ0  Good Ole Urns               Pioneer   \n",
       "14   1bX1nY3TlcAhbuL4UA3tQY            FOA                wwoman   \n",
       "179  73zWJYU92MvjWD3N3v5evB          Tauri            TristanArp   \n",
       "73   6yQrmJC8m8DUK0wuSDBYih     Every Road  TheBonyKingofNowhere   \n",
       "264  37aYPJyhkxbsWVijwXtlrf          Anime              Fellsius   \n",
       "\n",
       "     danceability  energy key  loudness  speechiness  acousticness  \\\n",
       "58          0.527   0.534   6   -10.396       0.0399       0.71500   \n",
       "14          0.713   0.687   2    -8.102       0.0319       0.04900   \n",
       "179         0.552   0.566  10    -6.742       0.1260       0.04880   \n",
       "73          0.541   0.746   4    -9.869       0.0309       0.00297   \n",
       "264         0.776   0.999  11    -2.737       0.1130       0.00169   \n",
       "\n",
       "     instrumentalness  liveness  valence    tempo  prediction  \n",
       "58             0.6000    0.1260    0.237   87.011           0  \n",
       "14             0.5640    0.2180    0.550  129.985           1  \n",
       "179            0.8910    0.0928    0.436  117.995           1  \n",
       "73             0.0868    0.2290    0.556  119.802           1  \n",
       "264            0.3150    0.5130    0.907  125.999           1  "
      ]
     },
     "execution_count": 82,
     "metadata": {},
     "output_type": "execute_result"
    }
   ],
   "source": [
    "df_final.sample(5)"
   ]
  },
  {
   "cell_type": "code",
   "execution_count": 83,
   "metadata": {},
   "outputs": [],
   "source": [
    "# Cria o objeto\n",
    "reco_obj = RecoSystem(df_final)"
   ]
  },
  {
   "cell_type": "code",
   "execution_count": 84,
   "metadata": {},
   "outputs": [],
   "source": [
    "musica = df_musica_randomica['name'].tolist()[0]"
   ]
  },
  {
   "cell_type": "code",
   "execution_count": 85,
   "metadata": {},
   "outputs": [
    {
     "name": "stdout",
     "output_type": "stream",
     "text": [
      "Goddess of Dawn\n"
     ]
    }
   ],
   "source": [
    "print(musica)"
   ]
  },
  {
   "cell_type": "code",
   "execution_count": 86,
   "metadata": {},
   "outputs": [
    {
     "ename": "IndexError",
     "evalue": "index 0 is out of bounds for axis 0 with size 0",
     "output_type": "error",
     "traceback": [
      "\u001b[0;31m---------------------------------------------------------------------------\u001b[0m",
      "\u001b[0;31mIndexError\u001b[0m                                Traceback (most recent call last)",
      "\u001b[0;32m/tmp/ipykernel_28786/1629659812.py\u001b[0m in \u001b[0;36m<module>\u001b[0;34m\u001b[0m\n\u001b[1;32m      1\u001b[0m \u001b[0;31m# Executa a recomendação\u001b[0m\u001b[0;34m\u001b[0m\u001b[0;34m\u001b[0m\u001b[0m\n\u001b[0;32m----> 2\u001b[0;31m \u001b[0mrecomendacao\u001b[0m \u001b[0;34m=\u001b[0m \u001b[0mreco_obj\u001b[0m\u001b[0;34m.\u001b[0m\u001b[0mRecomm\u001b[0m\u001b[0;34m(\u001b[0m\u001b[0mmusica\u001b[0m\u001b[0;34m)\u001b[0m\u001b[0;34m\u001b[0m\u001b[0;34m\u001b[0m\u001b[0m\n\u001b[0m",
      "\u001b[0;32m/tmp/ipykernel_28786/2528930368.py\u001b[0m in \u001b[0;36mRecomm\u001b[0;34m(self, nome_musica, amount)\u001b[0m\n\u001b[1;32m     13\u001b[0m \u001b[0;34m\u001b[0m\u001b[0m\n\u001b[1;32m     14\u001b[0m         \u001b[0;31m# Seleciona a música\u001b[0m\u001b[0;34m\u001b[0m\u001b[0;34m\u001b[0m\u001b[0m\n\u001b[0;32m---> 15\u001b[0;31m         \u001b[0msong\u001b[0m \u001b[0;34m=\u001b[0m \u001b[0mself\u001b[0m\u001b[0;34m.\u001b[0m\u001b[0mdata_\u001b[0m\u001b[0;34m[\u001b[0m\u001b[0;34m(\u001b[0m\u001b[0mself\u001b[0m\u001b[0;34m.\u001b[0m\u001b[0mdata_\u001b[0m\u001b[0;34m.\u001b[0m\u001b[0mname\u001b[0m\u001b[0;34m.\u001b[0m\u001b[0mstr\u001b[0m\u001b[0;34m.\u001b[0m\u001b[0mlower\u001b[0m\u001b[0;34m(\u001b[0m\u001b[0;34m)\u001b[0m \u001b[0;34m==\u001b[0m \u001b[0mnome_musica\u001b[0m\u001b[0;34m.\u001b[0m\u001b[0mlower\u001b[0m\u001b[0;34m(\u001b[0m\u001b[0;34m)\u001b[0m\u001b[0;34m)\u001b[0m\u001b[0;34m]\u001b[0m\u001b[0;34m.\u001b[0m\u001b[0mhead\u001b[0m\u001b[0;34m(\u001b[0m\u001b[0;36m1\u001b[0m\u001b[0;34m)\u001b[0m\u001b[0;34m.\u001b[0m\u001b[0mvalues\u001b[0m\u001b[0;34m[\u001b[0m\u001b[0;36m0\u001b[0m\u001b[0;34m]\u001b[0m\u001b[0;34m\u001b[0m\u001b[0;34m\u001b[0m\u001b[0m\n\u001b[0m\u001b[1;32m     16\u001b[0m         \u001b[0mres_dt\u001b[0m \u001b[0;34m=\u001b[0m \u001b[0mself\u001b[0m\u001b[0;34m.\u001b[0m\u001b[0mdata_\u001b[0m\u001b[0;34m[\u001b[0m\u001b[0mself\u001b[0m\u001b[0;34m.\u001b[0m\u001b[0mdata_\u001b[0m\u001b[0;34m.\u001b[0m\u001b[0mname\u001b[0m\u001b[0;34m.\u001b[0m\u001b[0mstr\u001b[0m\u001b[0;34m.\u001b[0m\u001b[0mlower\u001b[0m\u001b[0;34m(\u001b[0m\u001b[0;34m)\u001b[0m \u001b[0;34m!=\u001b[0m \u001b[0mnome_musica\u001b[0m\u001b[0;34m.\u001b[0m\u001b[0mlower\u001b[0m\u001b[0;34m(\u001b[0m\u001b[0;34m)\u001b[0m\u001b[0;34m]\u001b[0m\u001b[0;34m\u001b[0m\u001b[0;34m\u001b[0m\u001b[0m\n\u001b[1;32m     17\u001b[0m \u001b[0;34m\u001b[0m\u001b[0m\n",
      "\u001b[0;31mIndexError\u001b[0m: index 0 is out of bounds for axis 0 with size 0"
     ]
    }
   ],
   "source": [
    "# Executa a recomendação\n",
    "recomendacao = reco_obj.Recomm(musica)"
   ]
  },
  {
   "cell_type": "code",
   "execution_count": 75,
   "metadata": {},
   "outputs": [],
   "source": [
    "# Extrai a música randômica da lista de favoritos do Spotify\n",
    "y = df_musica_randomica[['id','name', \n",
    "                         'artists',  \n",
    "                         'acousticness', \n",
    "                         'liveness', \n",
    "                         'instrumentalness', \n",
    "                         'energy', \n",
    "                         'danceability', \n",
    "                         'valence']]"
   ]
  },
  {
   "cell_type": "code",
   "execution_count": 76,
   "metadata": {},
   "outputs": [
    {
     "ename": "NameError",
     "evalue": "name 'recomendacao' is not defined",
     "output_type": "error",
     "traceback": [
      "\u001b[0;31m---------------------------------------------------------------------------\u001b[0m",
      "\u001b[0;31mNameError\u001b[0m                                 Traceback (most recent call last)",
      "\u001b[0;32m/tmp/ipykernel_28786/4263513868.py\u001b[0m in \u001b[0;36m<module>\u001b[0;34m\u001b[0m\n\u001b[1;32m      1\u001b[0m \u001b[0;31m# Concatena a recomendação com a música randômica da lista de favoritos do Spotify\u001b[0m\u001b[0;34m\u001b[0m\u001b[0;34m\u001b[0m\u001b[0m\n\u001b[0;32m----> 2\u001b[0;31m \u001b[0mrecomendacao\u001b[0m \u001b[0;34m=\u001b[0m \u001b[0mpd\u001b[0m\u001b[0;34m.\u001b[0m\u001b[0mconcat\u001b[0m\u001b[0;34m(\u001b[0m\u001b[0;34m[\u001b[0m\u001b[0mrecomendacao\u001b[0m\u001b[0;34m,\u001b[0m \u001b[0my\u001b[0m\u001b[0;34m]\u001b[0m\u001b[0;34m)\u001b[0m\u001b[0;34m\u001b[0m\u001b[0;34m\u001b[0m\u001b[0m\n\u001b[0m",
      "\u001b[0;31mNameError\u001b[0m: name 'recomendacao' is not defined"
     ]
    }
   ],
   "source": [
    "# Concatena a recomendação com a música randômica da lista de favoritos do Spotify\n",
    "recomendacao = pd.concat([recomendacao, y])"
   ]
  },
  {
   "cell_type": "code",
   "execution_count": null,
   "metadata": {},
   "outputs": [],
   "source": [
    "# Salva a recomendação em disco\n",
    "recomendacao.to_csv('recomendacoes/recomendacao.csv')"
   ]
  },
  {
   "cell_type": "code",
   "execution_count": null,
   "metadata": {},
   "outputs": [],
   "source": [
    "# Carrega o arquivo do disco\n",
    "df_reco = (spark.read.format(\"csv\").options(header = \"true\").load(\"recomendacoes/recomendacao.csv\"))"
   ]
  },
  {
   "cell_type": "code",
   "execution_count": null,
   "metadata": {},
   "outputs": [],
   "source": [
    "# Recomendação de música\n",
    "df_reco.show()"
   ]
  },
  {
   "cell_type": "markdown",
   "metadata": {},
   "source": [
    "# Fim"
   ]
  }
 ],
 "metadata": {
  "kernelspec": {
   "display_name": "Python 3 (ipykernel)",
   "language": "python",
   "name": "python3"
  },
  "language_info": {
   "codemirror_mode": {
    "name": "ipython",
    "version": 3
   },
   "file_extension": ".py",
   "mimetype": "text/x-python",
   "name": "python",
   "nbconvert_exporter": "python",
   "pygments_lexer": "ipython3",
   "version": "3.9.13"
  }
 },
 "nbformat": 4,
 "nbformat_minor": 4
}
